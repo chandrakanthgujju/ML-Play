{
 "cells": [
  {
   "cell_type": "code",
   "execution_count": 1,
   "id": "7f367e99",
   "metadata": {},
   "outputs": [],
   "source": [
    "import pandas as pd"
   ]
  },
  {
   "cell_type": "code",
   "execution_count": 2,
   "id": "d9ea5d91",
   "metadata": {},
   "outputs": [
    {
     "name": "stdout",
     "output_type": "stream",
     "text": [
      "    Grade Bucket  BucketPercentage\n",
      "0      10    <50             100.0\n",
      "1      10    <75             100.0\n",
      "2      10    <90             100.0\n",
      "3      10   <100             100.0\n",
      "4      11    <50              50.0\n",
      "5      11    <75             100.0\n",
      "6      11    <90             100.0\n",
      "7      11   <100             100.0\n",
      "8      12    <50               0.0\n",
      "9      12    <75              25.0\n",
      "10     12    <90              50.0\n",
      "11     12   <100             100.0\n"
     ]
    }
   ],
   "source": [
    "# Sample data\n",
    "data = {\n",
    "    'UserID': [1,2,3,4,5,6,7,8],\n",
    "    'Grade': [10,10,11,11,12,12,12,12],\n",
    "    'TestScore': [38,39,44,63,72,85,91,97]\n",
    "}\n",
    "\n",
    "df = pd.DataFrame(data)\n",
    "\n",
    "# Define buckets\n",
    "buckets = [50, 75, 90, 100]\n",
    "\n",
    "# Function to calculate cumulative percentage per grade\n",
    "def cum_percentage(group):\n",
    "    total = len(group)\n",
    "    result = []\n",
    "    for b in buckets:\n",
    "        pct = (group['TestScore'] < b).sum() / total * 100\n",
    "        result.append({'Grade': group.name, 'Bucket': f'<{b}', 'BucketPercentage': pct})\n",
    "    return pd.DataFrame(result)\n",
    "\n",
    "# Apply per grade\n",
    "result = df.groupby('Grade').apply(cum_percentage).reset_index(drop=True)\n",
    "\n",
    "print(result)"
   ]
  },
  {
   "cell_type": "code",
   "execution_count": 5,
   "id": "1383cc70",
   "metadata": {},
   "outputs": [
    {
     "name": "stdout",
     "output_type": "stream",
     "text": [
      "   UserID  Grade  TestScore\n",
      "0       1     10         38\n",
      "1       2     10         39\n",
      "   UserID  Grade  TestScore\n",
      "2       3     11         44\n",
      "3       4     11         63\n",
      "   UserID  Grade  TestScore\n",
      "4       5     12         72\n",
      "5       6     12         85\n",
      "6       7     12         91\n",
      "7       8     12         97\n",
      "    Grade Bucket  BucketPercentage\n",
      "0      10    <50             100.0\n",
      "1      10    <75             100.0\n",
      "2      10    <90             100.0\n",
      "3      10   <100             100.0\n",
      "4      11    <50              50.0\n",
      "5      11    <75             100.0\n",
      "6      11    <90             100.0\n",
      "7      11   <100             100.0\n",
      "8      12    <50               0.0\n",
      "9      12    <75              25.0\n",
      "10     12    <90              50.0\n",
      "11     12   <100             100.0\n"
     ]
    }
   ],
   "source": [
    "# Sample data\n",
    "data = {\n",
    "    'UserID': [1,2,3,4,5,6,7,8],\n",
    "    'Grade': [10,10,11,11,12,12,12,12],\n",
    "    'TestScore': [38,39,44,63,72,85,91,97]\n",
    "}\n",
    "\n",
    "df = pd.DataFrame(data)\n",
    "\n",
    "# Define buckets\n",
    "buckets = [50, 75, 90, 100]\n",
    "\n",
    "# Prepare list to store results\n",
    "results = []\n",
    "\n",
    "# Group by Grade\n",
    "for grade, group in df.groupby('Grade'):\n",
    "    total = len(group)\n",
    "    print(group)\n",
    "    for b in buckets:\n",
    "        count = (group['TestScore'] < b).sum()  # students below bucket\n",
    "        pct = (count / total) * 100\n",
    "        results.append({'Grade': grade, 'Bucket': f'<{b}', 'BucketPercentage': pct})\n",
    "\n",
    "# Convert to DataFrame\n",
    "result_df = pd.DataFrame(results)\n",
    "\n",
    "print(result_df)\n"
   ]
  },
  {
   "cell_type": "code",
   "execution_count": 4,
   "id": "8848f421",
   "metadata": {},
   "outputs": [
    {
     "data": {
      "text/plain": [
       "<pandas.core.groupby.generic.DataFrameGroupBy object at 0x7fe7411a4610>"
      ]
     },
     "execution_count": 4,
     "metadata": {},
     "output_type": "execute_result"
    }
   ],
   "source": [
    "# fodf.groupby('Grade')"
   ]
  },
  {
   "cell_type": "code",
   "execution_count": null,
   "id": "5e611cd2",
   "metadata": {},
   "outputs": [],
   "source": []
  }
 ],
 "metadata": {
  "kernelspec": {
   "display_name": "Python 3",
   "language": "python",
   "name": "python3"
  },
  "language_info": {
   "codemirror_mode": {
    "name": "ipython",
    "version": 3
   },
   "file_extension": ".py",
   "mimetype": "text/x-python",
   "name": "python",
   "nbconvert_exporter": "python",
   "pygments_lexer": "ipython3",
   "version": "3.8.8"
  }
 },
 "nbformat": 4,
 "nbformat_minor": 5
}
